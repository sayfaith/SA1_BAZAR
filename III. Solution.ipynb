{
 "cells": [
  {
   "cell_type": "code",
   "execution_count": 1,
   "id": "ce196fbf",
   "metadata": {},
   "outputs": [
    {
     "name": "stdout",
     "output_type": "stream",
     "text": [
      "x_0 = 2.000\n",
      "x_1 = 2.154\n",
      "x_2 = 2.097\n",
      "x_3 = 2.119\n",
      "x_4 = 2.111\n",
      "x_5 = 2.114\n",
      "x_6 = 2.113\n",
      "x_7 = 2.113\n"
     ]
    }
   ],
   "source": [
    "def f(x):\n",
    "    return (20 - 5*x)**(1/3)\n",
    "x = 2\n",
    "print(f\"x_0 = {x:.3f}\")\n",
    "\n",
    "i = 1\n",
    "while True:\n",
    "    x_next = f(x)\n",
    "\n",
    "    print(f\"x_{i} = {x_next:.3f}\")\n",
    "    \n",
    "    if abs(x_next - x) < 0.001:\n",
    "        break\n",
    "    \n",
    "    x = x_next\n",
    "    i += 1"
   ]
  }
 ],
 "metadata": {
  "kernelspec": {
   "display_name": "Python 3 (ipykernel)",
   "language": "python",
   "name": "python3"
  },
  "language_info": {
   "codemirror_mode": {
    "name": "ipython",
    "version": 3
   },
   "file_extension": ".py",
   "mimetype": "text/x-python",
   "name": "python",
   "nbconvert_exporter": "python",
   "pygments_lexer": "ipython3",
   "version": "3.9.13"
  }
 },
 "nbformat": 4,
 "nbformat_minor": 5
}
