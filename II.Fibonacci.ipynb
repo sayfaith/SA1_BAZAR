{
 "cells": [
  {
   "cell_type": "code",
   "execution_count": 8,
   "id": "bb5b9e93",
   "metadata": {},
   "outputs": [
    {
     "name": "stdout",
     "output_type": "stream",
     "text": [
      "Enter the value of n: 10\n",
      "\n",
      "\n",
      "Fibonacci sequence using iteration: [0, 1, 1, 2, 3, 5, 8, 13, 21, 34, 55]\n",
      "\n",
      "\n",
      "Fibonacci sequence using recursion: [0, 1, 1, 2, 3, 5, 8, 13, 21, 34, 55]\n",
      "\n",
      "\n",
      "Iteration time: 0.000503 seconds\n",
      "Recursion time: 0.0 seconds\n",
      "\n",
      "Recursive function is faster\n"
     ]
    }
   ],
   "source": [
    "import time\n",
    "\n",
    "# Function to calculate the Fibonacci sequence using iteration\n",
    "def fibonacci_iter(n):\n",
    "    if n <= 1:\n",
    "        return n\n",
    "    else:\n",
    "        a, b = 0, 1\n",
    "        for i in range(2, n+1):\n",
    "            c = a + b\n",
    "            a = b\n",
    "            b = c\n",
    "        return b\n",
    "\n",
    "# Function to calculate the Fibonacci sequence using recursion\n",
    "def fibonacci_rec(n):\n",
    "    if n <= 1:\n",
    "        return n\n",
    "    else:\n",
    "        return fibonacci_rec(n-1) + fibonacci_rec(n-2)\n",
    "\n",
    "# Ask user for input\n",
    "n = int(input(\"Enter the value of n: \"))\n",
    "\n",
    "# Calculate Fibonacci sequence using iteration\n",
    "start_time = time.time()\n",
    "fibonacci_iter_seq = [fibonacci_iter(i) for i in range(n+1)]\n",
    "iteration_time = time.time() - start_time\n",
    "\n",
    "# Calculate Fibonacci sequence using recursion\n",
    "start_time = time.time()\n",
    "fibonacci_rec_seq = [fibonacci_rec(i) for i in range(n+1)]\n",
    "recursion_time = time.time() - start_time\n",
    "\n",
    "# Print results and rendering times\n",
    "print(\"\\n\")\n",
    "print(\"Fibonacci sequence using iteration:\", fibonacci_iter_seq)\n",
    "print(\"\\n\")\n",
    "print(\"Fibonacci sequence using recursion:\", fibonacci_rec_seq)\n",
    "print(\"\\n\")\n",
    "print(\"Iteration time:\", round(iteration_time, 6), \"seconds\")\n",
    "print(\"Recursion time:\", round(recursion_time, 6), \"seconds\")\n",
    "\n",
    "if iteration_time < recursion_time:\n",
    "    print(\"\\nIterative function is faster\")\n",
    "else:\n",
    "    print(\"\\nRecursive function is faster\")\n",
    "    \n",
    "# The recursive function is quicker when the value of n is small, \n",
    "# whereas the iterative function is faster for larger values of n."
   ]
  }
 ],
 "metadata": {
  "kernelspec": {
   "display_name": "Python 3 (ipykernel)",
   "language": "python",
   "name": "python3"
  },
  "language_info": {
   "codemirror_mode": {
    "name": "ipython",
    "version": 3
   },
   "file_extension": ".py",
   "mimetype": "text/x-python",
   "name": "python",
   "nbconvert_exporter": "python",
   "pygments_lexer": "ipython3",
   "version": "3.9.13"
  }
 },
 "nbformat": 4,
 "nbformat_minor": 5
}
